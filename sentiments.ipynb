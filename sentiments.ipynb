{
  "nbformat": 4,
  "nbformat_minor": 0,
  "metadata": {
    "colab": {
      "provenance": [],
      "gpuType": "T4",
      "toc_visible": true,
      "include_colab_link": true
    },
    "kernelspec": {
      "name": "python3",
      "display_name": "Python 3"
    },
    "language_info": {
      "name": "python"
    },
    "accelerator": "GPU"
  },
  "cells": [
    {
      "cell_type": "markdown",
      "metadata": {
        "id": "view-in-github",
        "colab_type": "text"
      },
      "source": [
        "<a href=\"https://colab.research.google.com/github/aypy01/tensorflow/blob/main/sentiments.ipynb\" target=\"_parent\"><img src=\"https://colab.research.google.com/assets/colab-badge.svg\" alt=\"Open In Colab\"/></a>"
      ]
    },
    {
      "cell_type": "markdown",
      "source": [
        "#Sentiments Analysis using tensorflow and IMDB reviews dataset"
      ],
      "metadata": {
        "id": "FcRlC6nErbil"
      }
    },
    {
      "cell_type": "markdown",
      "source": [
        "##Importing libraries"
      ],
      "metadata": {
        "id": "1kXtotwwvQ4X"
      }
    },
    {
      "cell_type": "code",
      "execution_count": null,
      "metadata": {
        "id": "Q4R6Cz9Y2TBW"
      },
      "outputs": [],
      "source": [
        "import matplotlib.pyplot as plt\n",
        "import os\n",
        "import re\n",
        "import shutil\n",
        "import string\n",
        "import tensorflow as tf\n",
        "\n",
        "\n"
      ]
    },
    {
      "cell_type": "markdown",
      "source": [
        "##Downloading Dataset"
      ],
      "metadata": {
        "id": "Bmsg7E-9viKZ"
      }
    },
    {
      "cell_type": "code",
      "source": [
        "print(tf.__version__)\n",
        "url = \"https://ai.stanford.edu/~amaas/data/sentiment/aclImdb_v1.tar.gz\"\n",
        "\n",
        "dataset_dir = tf.keras.utils.get_file(\"aclImdb_v1\", url, untar=True, cache_dir=\".\", cache_subdir=\"\")  # Downloading and extracting\n",
        "\n",
        "dataset = os.path.join(dataset_dir, \"aclImdb\")\n",
        "\n",
        "#Making the train-test\n",
        "train_ds = os.path.join( dataset, \"train\")  # directory for train set in the downloaded data\n",
        "test_ds= os.path.join(dataset,\"test\")"
      ],
      "metadata": {
        "colab": {
          "base_uri": "https://localhost:8080/"
        },
        "id": "6JIWNN_a3rIk",
        "outputId": "ef9b2b8f-9aea-45ca-8149-b7cde5aaceff"
      },
      "execution_count": null,
      "outputs": [
        {
          "output_type": "stream",
          "name": "stdout",
          "text": [
            "2.19.0\n"
          ]
        }
      ]
    },
    {
      "cell_type": "markdown",
      "source": [
        "###Viewing the dataset"
      ],
      "metadata": {
        "id": "2QmPW10dxEZO"
      }
    },
    {
      "cell_type": "code",
      "source": [
        "#To see the Review at position 1181, of Positive train set\n",
        "sample_file = os.path.join(train_ds, 'pos/10000_8.txt')\n",
        "with open(sample_file) as f:\n",
        "  print(f.read())\n"
      ],
      "metadata": {
        "colab": {
          "base_uri": "https://localhost:8080/"
        },
        "id": "rZCUYZZfw9YA",
        "outputId": "c4cbf89d-0a41-4f1a-b259-b7ca3d1d5bc4"
      },
      "execution_count": null,
      "outputs": [
        {
          "output_type": "stream",
          "name": "stdout",
          "text": [
            "Homelessness (or Houselessness as George Carlin stated) has been an issue for years but never a plan to help those on the street that were once considered human who did everything from going to school, work, or vote for the matter. Most people think of the homeless as just a lost cause while worrying about things such as racism, the war on Iraq, pressuring kids to succeed, technology, the elections, inflation, or worrying if they'll be next to end up on the streets.<br /><br />But what if you were given a bet to live on the streets for a month without the luxuries you once had from a home, the entertainment sets, a bathroom, pictures on the wall, a computer, and everything you once treasure to see what it's like to be homeless? That is Goddard Bolt's lesson.<br /><br />Mel Brooks (who directs) who stars as Bolt plays a rich man who has everything in the world until deciding to make a bet with a sissy rival (Jeffery Tambor) to see if he can live in the streets for thirty days without the luxuries; if Bolt succeeds, he can do what he wants with a future project of making more buildings. The bet's on where Bolt is thrown on the street with a bracelet on his leg to monitor his every move where he can't step off the sidewalk. He's given the nickname Pepto by a vagrant after it's written on his forehead where Bolt meets other characters including a woman by the name of Molly (Lesley Ann Warren) an ex-dancer who got divorce before losing her home, and her pals Sailor (Howard Morris) and Fumes (Teddy Wilson) who are already used to the streets. They're survivors. Bolt isn't. He's not used to reaching mutual agreements like he once did when being rich where it's fight or flight, kill or be killed.<br /><br />While the love connection between Molly and Bolt wasn't necessary to plot, I found \"Life Stinks\" to be one of Mel Brooks' observant films where prior to being a comedy, it shows a tender side compared to his slapstick work such as Blazing Saddles, Young Frankenstein, or Spaceballs for the matter, to show what it's like having something valuable before losing it the next day or on the other hand making a stupid bet like all rich people do when they don't know what to do with their money. Maybe they should give it to the homeless instead of using it like Monopoly money.<br /><br />Or maybe this film will inspire you to help others.\n"
          ]
        }
      ]
    },
    {
      "cell_type": "code",
      "source": [
        "# random review from the positive set\n",
        "import random\n",
        "\n",
        "positive = os.path.join(train_ds, \"pos\")\n",
        "sample_filename = random.choice(os.listdir(positive))\n",
        "sample_path = os.path.join(positive, sample_filename)\n",
        "\n",
        "with open(sample_path) as f:\n",
        "    print(f\"\\nReview: {sample_filename}\\n\")\n",
        "    print(f.read())"
      ],
      "metadata": {
        "colab": {
          "base_uri": "https://localhost:8080/"
        },
        "id": "UgBDduywBROy",
        "outputId": "241b9ebb-29a4-4b67-eca9-82fc3f1dc357"
      },
      "execution_count": null,
      "outputs": [
        {
          "output_type": "stream",
          "name": "stdout",
          "text": [
            "\n",
            "Review: 8170_7.txt\n",
            "\n",
            "As if most people didn't already have a jittery outlook on the field of dentistry, this little movie will sure make you paranoid patients squirm. A successful dental hygienist witnesses his wife going down on the pool man (on their anniversary of all days!) and snaps big time into a furious breakdown. After shooting an attack dog's head off, he strolls into work and ends up taking his marital aggression out on the patients as he plans what to do about his \"slut\" of a wife. There are plenty of up-close shots of mouth-jabbing, tongue-cutting, and beauty queen fondling, as well as a marvelously deranged performance by Corbin Bernsen. The scene in which he ties up and gases his wife before mercilessly yanking her teeth out is definitely hard to watch. A dentist is absolutely the wrong kind of person to go off the deep end and this movie sure explains that in detail. \"The Dentist\" is incredibly entertaining, fast-paced, and laughably gory at times. Check it out!\n"
          ]
        }
      ]
    },
    {
      "cell_type": "markdown",
      "source": [
        "###Removing non-usefull directory"
      ],
      "metadata": {
        "id": "GIJhY84JBxYE"
      }
    },
    {
      "cell_type": "code",
      "source": [
        "# Remove the directory for the unsupervised dataset from 'train'\n",
        "remove_dir = os.path.join(\n",
        "    train_ds, \"unsup\"\n",
        ")  # Removing the file directory of the unsupervised set\n",
        "shutil.rmtree(remove_dir)\n",
        "# This deletes the 'unsup' directory and all its contents"
      ],
      "metadata": {
        "id": "-0nUiA1HB6Qm"
      },
      "execution_count": null,
      "outputs": []
    },
    {
      "cell_type": "markdown",
      "source": [
        "##Data-Loading\n",
        "\n",
        "Validation_split inside model.fit only works when your data is in memory (like NumPy arrays, Pandas DataFrames, or tf.Tensors).\n",
        "\n",
        "It does not work with a tf.data.Dataset object (which is what text_dataset_from_directory gives you).\n",
        "\n",
        "subset=\"training\" and subset=\"validation\" → TensorFlow handles the split."
      ],
      "metadata": {
        "id": "xhD_dXOBF5v_"
      }
    },
    {
      "cell_type": "markdown",
      "source": [
        "### IMDB Dataset Split Notes\n",
        "\n",
        "- `text_dataset_from_directory`:\n",
        "  - Reads subfolders (`pos/` → label=1, `neg/` → label=0).\n",
        "  - Returns `(text, label)` pairs inside a `tf.data.Dataset`.\n",
        "\n",
        "- IMDB training set = **25,000 reviews**  \n",
        "  - 12,500 positive, 12,500 negative.\n",
        "\n",
        "- With `validation_split=0.2` and `subset=\"training\"`:\n",
        "  - Training set → **20,000 reviews** (10k pos + 10k neg).\n",
        "  - Validation set → **5,000 reviews** (2.5k pos + 2.5k neg).\n",
        "\n",
        "- **Seed is important** → ensures split is balanced and reproducible.\n",
        "\n",
        "- You don’t need to manually separate positive/negative; TF handles labels automatically.\n"
      ],
      "metadata": {
        "id": "Qg56EiGv1rop"
      }
    },
    {
      "cell_type": "code",
      "source": [
        "# Loading the raw training dataset with text files in the directory\n",
        "x_train = tf.keras.utils.text_dataset_from_directory(\n",
        "    train_ds,  # The directory where the training data is located (after removing 'unsup')\n",
        "    batch_size=32,  # Number of samples to return in each batch\n",
        "    validation_split=0.2,  # 20% of the x_train will be used for validation\n",
        "    subset=\"training\",  # Indicating that this is the training subset (remaining 80% is training data)\n",
        "    seed=42, # Using the seed for random operations (like splitting the data)\n",
        ")"
      ],
      "metadata": {
        "colab": {
          "base_uri": "https://localhost:8080/"
        },
        "id": "1Xlz1hLN35Nn",
        "outputId": "9088e9e7-2538-4f02-c6c8-6bc6bd0f9579"
      },
      "execution_count": null,
      "outputs": [
        {
          "output_type": "stream",
          "name": "stdout",
          "text": [
            "Found 25000 files belonging to 2 classes.\n",
            "Using 20000 files for training.\n"
          ]
        }
      ]
    },
    {
      "cell_type": "code",
      "source": [
        "# Load the validation dataset\n",
        "x_val = tf.keras.utils.text_dataset_from_directory(\n",
        "    train_ds,  # Use train_dir variable which has correct path\n",
        "    batch_size=32,\n",
        "    validation_split=0.2,  # 20% of the training data will be used for validation\n",
        "    subset=\"validation\",  # Specifies this is for validation\n",
        "    seed=42,  # Ensures reproducibility\n",
        ")\n"
      ],
      "metadata": {
        "colab": {
          "base_uri": "https://localhost:8080/"
        },
        "id": "JNm8wZVcnTny",
        "outputId": "0128d2c7-2982-4c59-fa10-0fa8b2f04298"
      },
      "execution_count": null,
      "outputs": [
        {
          "output_type": "stream",
          "name": "stdout",
          "text": [
            "Found 25000 files belonging to 2 classes.\n",
            "Using 5000 files for validation.\n"
          ]
        }
      ]
    },
    {
      "cell_type": "code",
      "source": [
        "# Load the test dataset\n",
        "x_test = tf.keras.utils.text_dataset_from_directory(\n",
        "    test_ds,  # Now use the defined test_dir variable\n",
        "    batch_size=32,  # The batch size for the test dataset\n",
        ")"
      ],
      "metadata": {
        "colab": {
          "base_uri": "https://localhost:8080/"
        },
        "id": "NoliuWVwpIkO",
        "outputId": "15c24894-ba9d-4973-a44f-e746980fcdaa"
      },
      "execution_count": null,
      "outputs": [
        {
          "output_type": "stream",
          "name": "stdout",
          "text": [
            "Found 25000 files belonging to 2 classes.\n"
          ]
        }
      ]
    },
    {
      "cell_type": "markdown",
      "source": [
        "As this is a binary classification lets see what that 0 and 1 represent here"
      ],
      "metadata": {
        "id": "98ugAats6IEF"
      }
    },
    {
      "cell_type": "code",
      "source": [
        "print(\"Label 0 correponds to\", x_train.class_names[0])\n",
        "\n",
        "print( \"Label 1 corresponds to\", x_train.class_names[1])\n"
      ],
      "metadata": {
        "colab": {
          "base_uri": "https://localhost:8080/"
        },
        "id": "UvwuqehA6fxN",
        "outputId": "43e8fa34-a749-4da9-fbbb-873ea1460b96"
      },
      "execution_count": null,
      "outputs": [
        {
          "output_type": "stream",
          "name": "stdout",
          "text": [
            "Label 0 correponds to neg\n",
            "Label 1 corresponds to pos\n"
          ]
        }
      ]
    },
    {
      "cell_type": "markdown",
      "source": [
        "Now we know the label=0 represents the \"neg\" and label=1 represents 'pos'"
      ],
      "metadata": {
        "id": "F-W6BKPvG4tk"
      }
    },
    {
      "cell_type": "markdown",
      "source": [
        "Example of 1st 3 reviews in training set"
      ],
      "metadata": {
        "id": "8BXyH74B50Uy"
      }
    },
    {
      "cell_type": "code",
      "source": [
        "# Iterate through the model , and take the first batch\n",
        "#As the model have 2 claseses , giving 1st column naeme as revies and second column as label\n",
        "\n",
        "for review, label in x_train.take(1):\n",
        "    # 'take(1)' retrieves the first batch of data (text and labels)\n",
        "\n",
        "    # Loop through the first 3 items in the batch of 32\n",
        "    for i in range(3):\n",
        "        # Print the text review (converted from tensor to numpy array for readability)\n",
        "        print(\"Review\", review.numpy()[i])\n",
        "\n",
        "        # Print the corresponding label (converted from tensor to numpy array for readability)\n",
        "        print(\"Label\", label.numpy()[i])"
      ],
      "metadata": {
        "colab": {
          "base_uri": "https://localhost:8080/"
        },
        "id": "tFgACKZE5xgi",
        "outputId": "9510930b-3ecc-4021-c582-379de3fba48d"
      },
      "execution_count": null,
      "outputs": [
        {
          "output_type": "stream",
          "name": "stdout",
          "text": [
            "Review b'\"Pandemonium\" is a horror movie spoof that comes off more stupid than funny. Believe me when I tell you, I love comedies. Especially comedy spoofs. \"Airplane\", \"The Naked Gun\" trilogy, \"Blazing Saddles\", \"High Anxiety\", and \"Spaceballs\" are some of my favorite comedies that spoof a particular genre. \"Pandemonium\" is not up there with those films. Most of the scenes in this movie had me sitting there in stunned silence because the movie wasn\\'t all that funny. There are a few laughs in the film, but when you watch a comedy, you expect to laugh a lot more than a few times and that\\'s all this film has going for it. Geez, \"Scream\" had more laughs than this film and that was more of a horror film. How bizarre is that?<br /><br />*1/2 (out of four)'\n",
            "Label 0\n",
            "Review b\"David Mamet is a very interesting and a very un-equal director. His first movie 'House of Games' was the one I liked best, and it set a series of films with characters whose perspective of life changes as they get into complicated situations, and so does the perspective of the viewer.<br /><br />So is 'Homicide' which from the title tries to set the mind of the viewer to the usual crime drama. The principal characters are two cops, one Jewish and one Irish who deal with a racially charged area. The murder of an old Jewish shop owner who proves to be an ancient veteran of the Israeli Independence war triggers the Jewish identity in the mind and heart of the Jewish detective.<br /><br />This is were the flaws of the film are the more obvious. The process of awakening is theatrical and hard to believe, the group of Jewish militants is operatic, and the way the detective eventually walks to the final violent confrontation is pathetic. The end of the film itself is Mamet-like smart, but disappoints from a human emotional perspective.<br /><br />Joe Mantegna and William Macy give strong performances, but the flaws of the story are too evident to be easily compensated.\"\n",
            "Label 0\n",
            "Review b'Great documentary about the lives of NY firefighters during the worst terrorist attack of all time.. That reason alone is why this should be a must see collectors item.. What shocked me was not only the attacks, but the\"High Fat Diet\" and physical appearance of some of these firefighters. I think a lot of Doctors would agree with me that,in the physical shape they were in, some of these firefighters would NOT of made it to the 79th floor carrying over 60 lbs of gear. Having said that i now have a greater respect for firefighters and i realize becoming a firefighter is a life altering job. The French have a history of making great documentary\\'s and that is what this is, a Great Documentary.....'\n",
            "Label 1\n"
          ]
        }
      ]
    },
    {
      "cell_type": "markdown",
      "source": [
        "##Preprocessing\n",
        "For data preperation the we have to make the dataset CLEAN:\n",
        "for that we have to\n",
        "\n",
        "1.   Standardize=remove punctuations and </ br> of HTML\n",
        "2.   Tokennize = splitint the words with whitespaces\n",
        "3.   Vectorize = converting str into float\n",
        "For all this we have keras.TextVectorization in layers"
      ],
      "metadata": {
        "id": "Hekx6y1iZPJr"
      }
    },
    {
      "cell_type": "markdown",
      "source": [
        "###Standardiation/tokenzation"
      ],
      "metadata": {
        "id": "_IYkKfa55Mxg"
      }
    },
    {
      "cell_type": "code",
      "source": [
        "import re\n",
        "import string\n",
        "\n",
        "def standardization(input_data):\n",
        "    # Convert input to lowercase\n",
        "    lowercase = tf.strings.lower(input_data)\n",
        "\n",
        "    # Remove any HTML tags like <br />\n",
        "    stripped_html = tf.strings.regex_replace( lowercase, \"<br />\", \" \")  # Fixed: Replaced '<br />' with '<\" \">', added space\n",
        "\n",
        "    # Remove punctuation using regex\n",
        "    return tf.strings.regex_replace(stripped_html, \"[%s]\" % re.escape(string.punctuation), \"\" )  # Fixed: Changed tf.string to tf.strings\n"
      ],
      "metadata": {
        "id": "ZzO1lJYpIkDc"
      },
      "execution_count": null,
      "outputs": []
    },
    {
      "cell_type": "markdown",
      "source": [
        "###Vectorization\n",
        "\n",
        "Choosing Between `adapt()` vs. Manual Vocabulary in `TextVectorization`\n",
        "\n",
        "- **`adapt()`**  \n",
        "  - Learns vocabulary automatically from dataset.  \n",
        "  - Best for **small/medium datasets** or when vocab is unknown.  \n",
        "  - Simple and reliable (handles token frequency, `[UNK]` etc.).  \n",
        "\n",
        "- **Manual `vocabulary=` argument**  in TextVectorization\n",
        "  - Use when you already have a predefined vocab (e.g., pretrained models, research papers, or large standardized datasets).  \n",
        "  - Saves time on huge datasets (no scanning needed).  \n",
        "  - Ensures vocab consistency across experiments.  "
      ],
      "metadata": {
        "id": "Shr8eF6MI4Ii"
      }
    },
    {
      "cell_type": "code",
      "source": [
        "from tensorflow.keras.layers import TextVectorization\n",
        "\n",
        "vectorize_layer=TextVectorization(max_tokens=10000, # Maximum number of words to consider\n",
        "                                  standardize=standardization, # Custom standardization function/something encoded\n",
        "                                  output_sequence_length=250,  # The length of each sequence (padding or truncating will occur\n",
        "                                  output_mode='int')  # Output integers inplace of the text\n"
      ],
      "metadata": {
        "id": "w849mzas58j7"
      },
      "execution_count": null,
      "outputs": []
    },
    {
      "cell_type": "markdown",
      "source": [
        "###Mapping Text"
      ],
      "metadata": {
        "id": "8zI17p8e8_oS"
      }
    },
    {
      "cell_type": "code",
      "source": [
        "# Extract only text (input data) from the training dataset and not labels\n",
        "x_train_text =x_train.map(lambda x, y: x)\n",
        "\n",
        "# Adapt the vectorization layer to the training data (calculating the vocabulary)\n",
        "vectorize_layer.adapt(x_train_text) #\n"
      ],
      "metadata": {
        "id": "s4m76c2i9JOD"
      },
      "execution_count": null,
      "outputs": []
    },
    {
      "cell_type": "markdown",
      "source": [
        "#### Text Standardization & Vectorization (Step-by-Step)\n",
        "\n",
        "- Convert all input text to lowercase → ensures uniform word matching.  \n",
        "- Remove HTML tags like `<br />` → cleans unnecessary formatting.  \n",
        "- Remove punctuation → reduces noise in vocabulary.  \n",
        "- Create a `TextVectorization` layer → turns text into integer sequences.  \n",
        "- Limit vocabulary to the 10k most frequent words → keeps model efficient.  \n",
        "- Pad or truncate reviews to fixed length (250 tokens) → ensures uniform input size.  \n",
        "- Replace out-of-vocab words with `[UNK]` token → handles unseen words.  \n",
        "- Extract only the text (drop labels) → prepares raw data for vocabulary building.  \n",
        "- Adapt the vectorization layer on training text → builds internal vocabulary mapping.  \n",
        "\n",
        "---\n",
        "\n",
        "#### Note on Errors\n",
        "- If cells are run **out of order**, the vectorization layer may be uninitialized.  \n",
        "- This can trigger `UnimplementedError` when processing text.  \n",
        "- Always run notebook **top-to-bottom** or reinitialize the layer before using.\n"
      ],
      "metadata": {
        "id": "CrbHlz2CBIlv"
      }
    },
    {
      "cell_type": "markdown",
      "source": [
        "###Vectorize function"
      ],
      "metadata": {
        "id": "AQ4Y_h5XMdcn"
      }
    },
    {
      "cell_type": "code",
      "source": [
        "def vectorize_text(text, label):\n",
        "    text = tf.expand_dims(text, -1)\n",
        "    return vectorize_layer(text), label\n",
        "# getting the batch of 59 reviews and labes from dataset #Why 59 ??\n",
        "review, label = next(iter(x_train))\n",
        "# reading the only 1st review and then reading its label and showing\n",
        "first_review, first_label = review[0], label[0]\n",
        "print(\"Review:\", first_review)\n",
        "print(\"Label:\", x_train.class_names[first_label])\n",
        "print()\n",
        "print(\"Vectorized review:\", vectorize_text(first_review, first_label))\n"
      ],
      "metadata": {
        "colab": {
          "base_uri": "https://localhost:8080/"
        },
        "id": "547kejQg-ZMq",
        "outputId": "0df4a44c-9d6f-4fbf-c05b-0dd0dfc4c648"
      },
      "execution_count": null,
      "outputs": [
        {
          "output_type": "stream",
          "name": "stdout",
          "text": [
            "Review: tf.Tensor(b'Silent Night, Deadly Night 5 is the very last of the series, and like part 4, it\\'s unrelated to the first three except by title and the fact that it\\'s a Christmas-themed horror flick.<br /><br />Except to the oblivious, there\\'s some obvious things going on here...Mickey Rooney plays a toymaker named Joe Petto and his creepy son\\'s name is Pino. Ring a bell, anyone? Now, a little boy named Derek heard a knock at the door one evening, and opened it to find a present on the doorstep for him. Even though it said \"don\\'t open till Christmas\", he begins to open it anyway but is stopped by his dad, who scolds him and sends him to bed, and opens the gift himself. Inside is a little red ball that sprouts Santa arms and a head, and proceeds to kill dad. Oops, maybe he should have left well-enough alone. Of course Derek is then traumatized by the incident since he watched it from the stairs, but he doesn\\'t grow up to be some killer Santa, he just stops talking.<br /><br />There\\'s a mysterious stranger lurking around, who seems very interested in the toys that Joe Petto makes. We even see him buying a bunch when Derek\\'s mom takes him to the store to find a gift for him to bring him out of his trauma. And what exactly is this guy doing? Well, we\\'re not sure but he does seem to be taking these toys apart to see what makes them tick. He does keep his landlord from evicting him by promising him to pay him in cash the next day and presents him with a \"Larry the Larvae\" toy for his kid, but of course \"Larry\" is not a good toy and gets out of the box in the car and of course, well, things aren\\'t pretty.<br /><br />Anyway, eventually what\\'s going on with Joe Petto and Pino is of course revealed, and as with the old story, Pino is not a \"real boy\". Pino is probably even more agitated and naughty because he suffers from \"Kenitalia\" (a smooth plastic crotch) so that could account for his evil ways. And the identity of the lurking stranger is revealed too, and there\\'s even kind of a happy ending of sorts. Whee.<br /><br />A step up from part 4, but not much of one. Again, Brian Yuzna is involved, and Screaming Mad George, so some decent special effects, but not enough to make this great. A few leftovers from part 4 are hanging around too, like Clint Howard and Neith Hunter, but that doesn\\'t really make any difference. Anyway, I now have seeing the whole series out of my system. Now if I could get some of it out of my brain. 4 out of 5.', shape=(), dtype=string)\n",
            "Label: neg\n",
            "\n",
            "Vectorized review: (<tf.Tensor: shape=(1, 250), dtype=int64, numpy=\n",
            "array([[1287,  313, 2380,  313,  661,    7,    2,   52,  229,    5,    2,\n",
            "         200,    3,   38,  170,  669,   29, 5492,    6,    2,   83,  297,\n",
            "         549,   32,  410,    3,    2,  186,   12,   29,    4,    1,  191,\n",
            "         510,  549,    6,    2, 8229,  212,   46,  576,  175,  168,   20,\n",
            "           1, 5361,  290,    4,    1,  761,  969,    1,    3,   24,  935,\n",
            "        2271,  393,    7,    1, 1675,    4, 3747,  250,  148,    4,  112,\n",
            "         436,  761, 3529,  548,    4, 3633,   31,    2, 1331,   28, 2096,\n",
            "           3, 2912,    9,    6,  163,    4, 1006,   20,    2,    1,   15,\n",
            "          85,   53,  147,    9,  292,   89,  959, 2314,  984,   27,  762,\n",
            "           6,  959,    9,  564,   18,    7, 2140,   32,   24, 1254,   36,\n",
            "           1,   85,    3, 3298,   85,    6, 1410,    3, 1936,    2, 3408,\n",
            "         301,  965,    7,    4,  112,  740, 1977,   12,    1, 2014, 2772,\n",
            "           3,    4,  428,    3, 5177,    6,  512, 1254,    1,  278,   27,\n",
            "         139,   25,  308,    1,  579,    5,  259, 3529,    7,   92, 8981,\n",
            "          32,    2, 3842,  230,   27,  289,    9,   35,    2, 5712,   18,\n",
            "          27,  144, 2166,   56,    6,   26,   46,  466, 2014,   27,   40,\n",
            "        2745,  657,  212,    4, 1376, 3002, 7080,  183,   36,  180,   52,\n",
            "         920,    8,    2, 4028,   12,  969,    1,  158,   71,   53,   67,\n",
            "          85, 2754,    4,  734,   51,    1, 1611,  294,   85,    6,    2,\n",
            "        1164,    6,  163,    4, 3408,   15,   85,    6,  717,   85,   44,\n",
            "           5,   24, 7158,    3,   48,  604,    7,   11,  225,  384,   73,\n",
            "          65,   21,  242,   18,   27,  120,  295,    6,   26,  667,  129,\n",
            "        4028,  948,    6,   67,   48,  158,   93,    1]])>, <tf.Tensor: shape=(), dtype=int32, numpy=0>)\n"
          ]
        }
      ]
    },
    {
      "cell_type": "code",
      "source": [
        "# Printing the selected integer vectorization text into its text\n",
        "#This as seen is not taken from the above example review, its the text_vectorization of whole x_train\n",
        "print(\"1287 meaning\", vectorize_layer.get_vocabulary()[1287])\n",
        "print(\"7827 meaning\",vectorize_layer.get_vocabulary()[7827])\n",
        "print(\"9006 meaning \", vectorize_layer.get_vocabulary()[9006])"
      ],
      "metadata": {
        "colab": {
          "base_uri": "https://localhost:8080/"
        },
        "id": "6JvOmFKHNaTh",
        "outputId": "92fabbd4-a836-45ec-d98d-63457dab5b18"
      },
      "execution_count": null,
      "outputs": [
        {
          "output_type": "stream",
          "name": "stdout",
          "text": [
            "1287 meaning silent\n",
            "7827 meaning cmon\n",
            "9006 meaning  shrill\n"
          ]
        }
      ]
    },
    {
      "cell_type": "markdown",
      "source": [
        "## Understanding `vectorize_text` and Batch Behavior\n",
        "\n",
        "- **`tf.expand_dims(text, -1)`**\n",
        "  - Adds an extra dimension to the tensor.  \n",
        "  - Reason: `TextVectorization` expects batched inputs (rank-2: `[batch, text]`).  \n",
        "  - A single string like `\"this movie is great\"` is rank-0 → expand makes it rank-1 → compatible with the layer.  \n",
        "\n",
        "\n",
        "- **`next(iter(x_train))`**\n",
        "  - Converts the dataset into an iterator and grabs the first batch.  \n",
        "  - Returns a tuple: `(reviews_batch, labels_batch)`.  \n",
        "  - Here `reviews_batch` has 32 reviews, and `labels_batch` has 32 labels.  \n",
        "\n",
        "- **Picking a single review**\n",
        "  - `first_review, first_label = review[0], label[0]` → selects the first sample.  \n",
        "  - `x_train.class_names[first_label]` → decodes numeric label into `\"pos\"` or `\"neg\"`.  \n",
        "\n",
        "- **Vectorization step**\n",
        "  - `vectorize_text(first_review, first_label)` →  \n",
        "    - Expands the review’s dimensions,  \n",
        "    - Passes it through `vectorize_layer` to get integers,  \n",
        "    - Returns `(vectorized_text, label)`.  \n"
      ],
      "metadata": {
        "id": "j74QNknFCAiv"
      }
    },
    {
      "cell_type": "markdown",
      "source": [
        "##Spliting Dataset"
      ],
      "metadata": {
        "id": "orBkyXcyDVsl"
      }
    },
    {
      "cell_type": "code",
      "source": [
        "# Mapping the vectorize_text function to each dataset\n",
        "train = x_train.map(vectorize_text)\n",
        "val = x_val.map(vectorize_text)\n",
        "test = x_test.map(vectorize_text)\n",
        "\n",
        "# Cache the datasets to speed up access\n",
        "# This stores the dataset in memory after the first pass, preventing it from being read multiple times from disk\n",
        "# The prefetch method prepares the next batch of data while the model is training\n",
        "AUTOTUNE = tf.data.AUTOTUNE\n",
        "\n",
        "train = train.cache().prefetch(buffer_size=AUTOTUNE)\n",
        "val = val.cache().prefetch(buffer_size=AUTOTUNE)\n",
        "test = test.cache().prefetch(buffer_size=AUTOTUNE)"
      ],
      "metadata": {
        "id": "mEpOZy6KBAss"
      },
      "execution_count": null,
      "outputs": []
    },
    {
      "cell_type": "markdown",
      "source": [
        "##Model"
      ],
      "metadata": {
        "id": "17svEkmEGxol"
      }
    },
    {
      "cell_type": "markdown",
      "source": [
        "  - In typical tabular/classical ML, you see `Dense → Dense → Output`.  \n",
        "  - In text problems, you need to first **convert words into numbers that make sense** before a Dense layer can work.  \n",
        "  - That’s why the pipeline looks different: text → embedding → pooling → Dense.  \n",
        "\n",
        "\n",
        "\n"
      ],
      "metadata": {
        "id": "p6xITJ4pHHKA"
      }
    },
    {
      "cell_type": "code",
      "source": [
        "from tensorflow.keras import layers,models\n",
        "\n",
        "model= models.Sequential([\n",
        "        layers.Embedding(input_dim=10000,output_dim=16),\n",
        "        layers.GlobalAveragePooling1D(),\n",
        "        layers.Dropout(0.2),\n",
        "        layers.Dense(1, activation='sigmoid')\n",
        "                             ])\n",
        "\n",
        "#model.summary()"
      ],
      "metadata": {
        "id": "r6Svm4M2Aq0C"
      },
      "execution_count": null,
      "outputs": []
    },
    {
      "cell_type": "code",
      "source": [
        "for x_batch, y_batch in train.take(1):\n",
        "    print(\"Input shape:\", x_batch.shape)\n"
      ],
      "metadata": {
        "colab": {
          "base_uri": "https://localhost:8080/"
        },
        "id": "W7mql-38M1Ij",
        "outputId": "736b935e-a1cf-4fc0-a014-f24cec124cd1"
      },
      "execution_count": null,
      "outputs": [
        {
          "output_type": "stream",
          "name": "stdout",
          "text": [
            "Input shape: (32, 250)\n"
          ]
        }
      ]
    },
    {
      "cell_type": "markdown",
      "source": [
        "###Layer by Layer Breakdown\n",
        "\n",
        "1. **Embedding Layer**\n",
        "   - `layers.Embedding(input_dim=10000, output_dim=16)`  \n",
        "   - Think of it as a **lookup table**: every word index gets mapped to a 16-dimensional vector.  \n",
        "   - Example:  \n",
        "     - Word ID `45` → `[0.12, -0.8, 0.33, ..., 0.09]`  \n",
        "   - Purpose: capture semantic meaning (words with similar context end up with similar vectors).  \n",
        "   - Without this, the model would treat words as meaningless IDs.\n",
        "\n",
        "2. **Dropout**\n",
        "   - `layers.Dropout(0.2)` randomly drops 20% of values during training.  \n",
        "   - Prevents overfitting by forcing the model not to rely too heavily on certain features.\n",
        "\n",
        "3. **GlobalAveragePooling1D**\n",
        "   - Takes the sequence of word embeddings and **averages them into a single vector**.  \n",
        "   - This compresses variable-length reviews into a fixed-size representation.  \n",
        "   - Example: Review length 250 words → `[250, 16]` matrix → becomes `[16]` vector.\n",
        "\n",
        "4. **Dropout (again)**\n",
        "   - Adds more regularization after pooling.\n",
        "\n",
        "5. **Dense Layer**\n",
        "   - `layers.Dense(1, activation='sigmoid')`  \n",
        "   - Outputs a single probability between 0 and 1.  \n",
        "   - Used for binary classification: **positive vs negative review**.\n",
        "\n",
        "\n",
        "\n",
        "- Embeddings + pooling let the model **understand word relationships and compress info**.  \n",
        "- After that, a single Dense layer is enough to classify sentiment.\n",
        "\n",
        "\n",
        "\n",
        "### Intuition\n",
        "- Embedding = **learnable word meaning**  \n",
        "- Pooling = **combine word meanings into sentence meaning**  \n",
        "- Dense + Sigmoid = **decide positive/negative**  \n",
        "\n",
        "Rule of Thumb\n",
        "- `Embedding.input_dim` = `TextVectorization.max_tokens`  \n",
        "- `Embedding.output_dim` = embedding size you choose (e.g., 16, 32, 128 …)\n",
        "\n",
        "If `input_dim` < vocabulary size → some words will have no embedding.   \n",
        " If `input_dim` > vocabulary size → no error, but extra rows in the embedding table are wasted.\n"
      ],
      "metadata": {
        "id": "yo6dw33yH0A6"
      }
    },
    {
      "cell_type": "markdown",
      "source": [
        "##Compile\n",
        "\n",
        "### BinaryAccuracy` VS `accuracy`\n",
        "\n",
        "- **`accuracy` (shorthand)**\n",
        "  - In Keras, `\"accuracy\"` is just an alias.  \n",
        "  - For **binary classification**, it defaults to `BinaryAccuracy(threshold=0.5)`.  \n",
        "  - For **categorical classification**, it defaults to `CategoricalAccuracy`.  \n",
        "\n",
        "- **`BinaryAccuracy(threshold=0.5)`**\n",
        "  - Explicit version: says \"count prediction as **1** if sigmoid output ≥ 0.5, else **0**\".  \n",
        "  - You can change threshold if needed (e.g., `0.7` for stricter positives).  \n",
        "  - Gives you more control and clarity in binary tasks.  \n",
        "\n",
        "\n",
        "## Rule of Thumb\n",
        "- Use `\"accuracy\"` if you’re okay with defaults.  \n",
        "- Use `BinaryAccuracy` if you want to **tune threshold** or make it clear to future-you what’s happening.  \n"
      ],
      "metadata": {
        "id": "CNnqgbf8on8M"
      }
    },
    {
      "cell_type": "code",
      "source": [
        "from tensorflow.keras import losses,metrics\n",
        "model.compile(\n",
        "              optimizer=\"Adam\",  # popular optimizer to optimize weights and biases\n",
        "              loss=losses.BinaryCrossentropy(),  # Loss function for binary classification\n",
        "              metrics=[metrics.BinaryAccuracy(threshold=0.5)] #Threshold is the line b/w the good and bad; here if model have accuracy of vector >50 then its a good word in context and vice vers\n",
        "              )"
      ],
      "metadata": {
        "id": "dWwKBWHzojQC"
      },
      "execution_count": null,
      "outputs": []
    },
    {
      "cell_type": "markdown",
      "source": [
        "##Training\n"
      ],
      "metadata": {
        "id": "mAJJwXEzotOo"
      }
    },
    {
      "cell_type": "code",
      "source": [
        "model.fit(train, validation_data=val, epochs=10, verbose=1, shuffle=True)"
      ],
      "metadata": {
        "colab": {
          "base_uri": "https://localhost:8080/"
        },
        "id": "40VSAddyosb7",
        "outputId": "7cd5410f-7bbd-4630-98d4-2dd552c02483"
      },
      "execution_count": null,
      "outputs": [
        {
          "output_type": "stream",
          "name": "stdout",
          "text": [
            "Epoch 1/10\n",
            "\u001b[1m625/625\u001b[0m \u001b[32m━━━━━━━━━━━━━━━━━━━━\u001b[0m\u001b[37m\u001b[0m \u001b[1m3s\u001b[0m 5ms/step - binary_accuracy: 0.9751 - loss: 0.0879 - val_binary_accuracy: 0.8616 - val_loss: 0.4200\n",
            "Epoch 2/10\n",
            "\u001b[1m625/625\u001b[0m \u001b[32m━━━━━━━━━━━━━━━━━━━━\u001b[0m\u001b[37m\u001b[0m \u001b[1m3s\u001b[0m 5ms/step - binary_accuracy: 0.9756 - loss: 0.0845 - val_binary_accuracy: 0.8606 - val_loss: 0.4326\n",
            "Epoch 3/10\n",
            "\u001b[1m625/625\u001b[0m \u001b[32m━━━━━━━━━━━━━━━━━━━━\u001b[0m\u001b[37m\u001b[0m \u001b[1m3s\u001b[0m 5ms/step - binary_accuracy: 0.9780 - loss: 0.0802 - val_binary_accuracy: 0.8606 - val_loss: 0.4406\n",
            "Epoch 4/10\n",
            "\u001b[1m625/625\u001b[0m \u001b[32m━━━━━━━━━━━━━━━━━━━━\u001b[0m\u001b[37m\u001b[0m \u001b[1m6s\u001b[0m 5ms/step - binary_accuracy: 0.9802 - loss: 0.0760 - val_binary_accuracy: 0.8542 - val_loss: 0.4643\n",
            "Epoch 5/10\n",
            "\u001b[1m625/625\u001b[0m \u001b[32m━━━━━━━━━━━━━━━━━━━━\u001b[0m\u001b[37m\u001b[0m \u001b[1m5s\u001b[0m 5ms/step - binary_accuracy: 0.9797 - loss: 0.0733 - val_binary_accuracy: 0.8570 - val_loss: 0.4661\n",
            "Epoch 6/10\n",
            "\u001b[1m625/625\u001b[0m \u001b[32m━━━━━━━━━━━━━━━━━━━━\u001b[0m\u001b[37m\u001b[0m \u001b[1m4s\u001b[0m 7ms/step - binary_accuracy: 0.9808 - loss: 0.0709 - val_binary_accuracy: 0.8568 - val_loss: 0.4753\n",
            "Epoch 7/10\n",
            "\u001b[1m625/625\u001b[0m \u001b[32m━━━━━━━━━━━━━━━━━━━━\u001b[0m\u001b[37m\u001b[0m \u001b[1m4s\u001b[0m 5ms/step - binary_accuracy: 0.9823 - loss: 0.0669 - val_binary_accuracy: 0.8568 - val_loss: 0.4813\n",
            "Epoch 8/10\n",
            "\u001b[1m625/625\u001b[0m \u001b[32m━━━━━━━━━━━━━━━━━━━━\u001b[0m\u001b[37m\u001b[0m \u001b[1m3s\u001b[0m 5ms/step - binary_accuracy: 0.9838 - loss: 0.0642 - val_binary_accuracy: 0.8550 - val_loss: 0.4933\n",
            "Epoch 9/10\n",
            "\u001b[1m625/625\u001b[0m \u001b[32m━━━━━━━━━━━━━━━━━━━━\u001b[0m\u001b[37m\u001b[0m \u001b[1m3s\u001b[0m 5ms/step - binary_accuracy: 0.9842 - loss: 0.0618 - val_binary_accuracy: 0.8510 - val_loss: 0.5142\n",
            "Epoch 10/10\n",
            "\u001b[1m625/625\u001b[0m \u001b[32m━━━━━━━━━━━━━━━━━━━━\u001b[0m\u001b[37m\u001b[0m \u001b[1m4s\u001b[0m 7ms/step - binary_accuracy: 0.9858 - loss: 0.0586 - val_binary_accuracy: 0.8468 - val_loss: 0.5328\n"
          ]
        },
        {
          "output_type": "execute_result",
          "data": {
            "text/plain": [
              "<keras.src.callbacks.history.History at 0x7943d977d820>"
            ]
          },
          "metadata": {},
          "execution_count": 76
        }
      ]
    },
    {
      "cell_type": "markdown",
      "source": [
        "3#Evaluate"
      ],
      "metadata": {
        "id": "3je3dP6Kqx6e"
      }
    },
    {
      "cell_type": "code",
      "source": [
        "loss, accuracy = model.evaluate(test, verbose=2)\n",
        "# Evaluates the model on the test dataset (x_test)\n",
        "# 'verbose=2' prints one line per epoch: more informative than 0 (silent) or 1 (progress bar)\n",
        "\n",
        "print(\"Loss\", loss)  # Displays how far off the model's predictions are (lower is better)\n",
        "print(f\"Accuracy {accuracy:.3f}\")  # Displays accuracy as a percentage (formatted to 3 decimal places)\n"
      ],
      "metadata": {
        "colab": {
          "base_uri": "https://localhost:8080/"
        },
        "id": "Wqq27nyjqz6R",
        "outputId": "959f41bf-ee66-4e37-8acc-573f23eace29"
      },
      "execution_count": null,
      "outputs": [
        {
          "output_type": "stream",
          "name": "stdout",
          "text": [
            "782/782 - 1s - 2ms/step - binary_accuracy: 0.8190 - loss: 0.6408\n",
            "Loss 0.6407927870750427\n",
            "Accuracy 0.819\n"
          ]
        }
      ]
    },
    {
      "cell_type": "markdown",
      "source": [
        "##Predicting"
      ],
      "metadata": {
        "id": "t0Idkp-htJGm"
      }
    },
    {
      "cell_type": "markdown",
      "source": [
        "To create new model with the trained sets which we did till now and with that, vectorize_layer and if want then change the activation"
      ],
      "metadata": {
        "id": "OfjY-zviuo8l"
      }
    },
    {
      "cell_type": "code",
      "source": [
        "export_model = tf.keras.Sequential([\n",
        "    vectorize_layer,                      # Handles raw string input,its the method of preprocessing inside the model\n",
        "    model,                                # Your trained model\n",
        "    layers.Activation('sigmoid')            # Optional extra layer\n",
        "])\n",
        "\n",
        "export_model.compile(\n",
        "    loss=tf.keras.losses.BinaryCrossentropy(),\n",
        "    optimizer='adam',\n",
        "    metrics=['accuracy']\n",
        ")\n",
        "\n",
        "# Now, you can pass RAW TEXT directly\n",
        "sample_texts = tf.constant([\"This movie was great!\",\n",
        "                            \"very good movie\",\n",
        "                            \"Terribly good movie\"])\n",
        "predictions = export_model.predict(sample_texts)\n",
        "print(predictions)\n"
      ],
      "metadata": {
        "colab": {
          "base_uri": "https://localhost:8080/"
        },
        "collapsed": true,
        "id": "KhIWqRYCstqz",
        "outputId": "db2dd51b-b9a1-445f-c654-1546b50e2fb8"
      },
      "execution_count": null,
      "outputs": [
        {
          "output_type": "stream",
          "name": "stdout",
          "text": [
            "\u001b[1m1/1\u001b[0m \u001b[32m━━━━━━━━━━━━━━━━━━━━\u001b[0m\u001b[37m\u001b[0m \u001b[1m0s\u001b[0m 131ms/step\n",
            "[[0.5076539]\n",
            " [0.5061186]\n",
            " [0.5029051]]\n"
          ]
        }
      ]
    },
    {
      "cell_type": "markdown",
      "source": [
        "##Saving Data"
      ],
      "metadata": {
        "id": "vdaw5lpn7OIc"
      }
    },
    {
      "cell_type": "code",
      "source": [
        "model.save(\"sentiments.keras\")\n"
      ],
      "metadata": {
        "id": "v4y6UEFP7VTF"
      },
      "execution_count": null,
      "outputs": []
    },
    {
      "cell_type": "markdown",
      "source": [
        "##Summary:\n",
        "\n",
        "### Dataset Handling\n",
        "- Downloaded **IMDB dataset** → noticed it’s directory-structured:\n",
        "  - `train/pos`, `train/neg`\n",
        "  - `test/pos`, `test/neg`\n",
        "  - `train/unsup` (unlabeled reviews → ignored for supervised training).  \n",
        "- Labels are inferred from directory names (`pos = 1`, `neg = 0`).  \n",
        "- Unlike CSV datasets, reviews are stored as **raw text files**.  \n",
        "\n",
        "### Data Preparation\n",
        "- Used `tf.keras.utils.text_dataset_from_directory` to load train/test datasets.  \n",
        "- Specified:\n",
        "  - `validation_split=0.2`\n",
        "  - `seed` (to shuffle consistently)\n",
        "  - `batch_size` (for batching).\n",
        "- Confirmed that reviews + labels are mixed inside batches (not separated by directory).  \n",
        "\n",
        "### Text Preprocessing\n",
        "- Built a **TextVectorization layer**:\n",
        "  - `max_tokens = 10000` (limit vocabulary size).  \n",
        "  - `output_sequence_length = 250` (pad/truncate reviews).  \n",
        "  - `output_mode = \"int\"` (map words to integers).  \n",
        "- Wrote a **custom standardization function**:\n",
        "  - Lowercased text.  \n",
        "  - Removed punctuation.  \n",
        "  - Replaced `<br />` tags with spaces.  \n",
        "- Applied `vectorize_text` function to transform `(text, label)` pairs into integer sequences.  \n",
        "\n",
        "### Model Architecture\n",
        "- Used a **Sequential model** with:\n",
        "  1. **Embedding layer** (`input_dim=10000`, `output_dim=250`).  \n",
        "  2. **Dropout** (to reduce overfitting).  \n",
        "  3. **GlobalAveragePooling1D** (summarizes embeddings).  \n",
        "  4. **Dense(1, activation='sigmoid')` (binary output).  \n",
        "- Loss: `binary_crossentropy`.  \n",
        "- Optimizer: `Adam`.  \n",
        "- Metric: `binary_accuracy` (threshold at 0.5).  \n",
        "\n",
        "### Training & Evaluation\n",
        "- Trained with `model.fit(..., validation_split=0.2, epochs=N)`.  \n",
        "- Evaluated on test set → **~81.9% accuracy**.  \n",
        "- Saved model as `sentiments.keras`.  \n"
      ],
      "metadata": {
        "id": "v751sl0j0jt8"
      }
    },
    {
      "cell_type": "markdown",
      "source": [
        "\n",
        "---\n",
        "## Navigation\n",
        "\n",
        "###  Explore More Projects\n",
        "[![Project: Fuel Efficiency](https://img.shields.io/badge/Project-Fuel_Efficiency-e6770b?style=for-the-badge&logo=github&logoColor=00FF80&labelColor=765898)](https://github.com/aypy01/tensorflow/blob/main/fuel_efficiency.ipynb)\n",
        "\n",
        "[![Project: Fashion MNIST](https://img.shields.io/badge/Project-Fashion_MNIST-e6770b?style=for-the-badge&logo=github&logoColor=00FF80&labelColor=765898)](https://github.com/aypy01/tensorflow/blob/main/fashion-mnist-image-classifier.py)\n",
        "\n",
        "---"
      ],
      "metadata": {
        "id": "XgKIMnWAqL4s"
      }
    },
    {
      "cell_type": "markdown",
      "source": [
        "## Author\n",
        " <p align=\"left\">\n",
        "  Created and maintained by &nbsp;\n",
        "  <a href=\"https://github.com/aypy01\" target=\"_blank\">\n",
        "  <img src=\"https://img.shields.io/badge/Aaditya_Yadav-aypy01-e6770b?style=flat-square&logo=github&logoColor=00FF80&labelColor=765898\" alt=\"GitHub Badge\"/>\n",
        "</a>\n",
        "\n",
        "</p>\n",
        "\n",
        "<p>\n",
        "<img src=\"https://readme-typing-svg.demolab.com?font=Fira+Code&duration=3000&pause=500&color=00FF80&background=765898&center=false&vCenter=false&width=440&lines=Break+Things+First%2C+Understand+Later;Built+to+Debug%2C+Not+Repeat;Learning+What+Actually+Sticks;Code.+Observe.+Refine.\" alt=\"Typing SVG\" />\n",
        "</p>\n"
      ],
      "metadata": {
        "id": "HV50GQhZrCFK"
      }
    },
    {
      "cell_type": "markdown",
      "source": [
        "## License\n",
        "\n",
        "This project is licensed under the [![License: MIT](https://img.shields.io/badge/License-MIT-yellow.svg)](https://opensource.org/licenses/MIT).\n"
      ],
      "metadata": {
        "id": "72DF22IdrLOr"
      }
    }
  ]
}