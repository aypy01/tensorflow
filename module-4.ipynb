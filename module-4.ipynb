{
  "nbformat": 4,
  "nbformat_minor": 0,
  "metadata": {
    "colab": {
      "provenance": [],
      "authorship_tag": "ABX9TyNKQ3Dtcxdqby3MYn1CjUn/",
      "include_colab_link": true
    },
    "kernelspec": {
      "name": "python3",
      "display_name": "Python 3"
    },
    "language_info": {
      "name": "python"
    }
  },
  "cells": [
    {
      "cell_type": "markdown",
      "metadata": {
        "id": "view-in-github",
        "colab_type": "text"
      },
      "source": [
        "<a href=\"https://colab.research.google.com/github/aypy01/tensorflow/blob/main/module-4.ipynb\" target=\"_parent\"><img src=\"https://colab.research.google.com/assets/colab-badge.svg\" alt=\"Open In Colab\"/></a>"
      ]
    },
    {
      "cell_type": "markdown",
      "source": [
        "#Module-4"
      ],
      "metadata": {
        "id": "XzPIVrGFJeZ6"
      }
    },
    {
      "cell_type": "markdown",
      "source": [
        "## Reinforcement Learning (RL) – Beginner-Friendly Intro\n",
        "\n",
        "In Reinforcement Learning, we **don't start with a dataset** like in supervised learning. Instead, the data and learning happen *side by side* during interaction with the environment.\n",
        "\n",
        "###Core Concept\n",
        "\n",
        "- There is an **Environment** that contains many **States**.\n",
        "- An **Agent** starts at a **random initial state** and begins to explore.\n",
        "- The agent performs **Actions** in the environment.\n",
        "- For each action, the agent receives a **Reward**:\n",
        "  -  Positive reward for good actions\n",
        "  -  Negative reward for bad actions\n",
        "\n",
        "### Exploration vs. Exploitation\n",
        "\n",
        "A key difference in RL is that:\n",
        "> Even after finding a good path to the goal, the agent **should not always repeat that same path**.\n",
        "\n",
        "- The agent must also **explore suboptimal paths**, even if they're risky or less rewarding in the short term.\n",
        "- This exploration helps find a **truly optimal policy** in the long run.\n",
        "\n",
        "\n"
      ],
      "metadata": {
        "id": "-za01P7aJmFS"
      }
    },
    {
      "cell_type": "markdown",
      "source": [
        "### Q-Learning\n",
        "\n",
        "####How it works?\n",
        "\n",
        "Learning the Q-table.\n",
        "\n",
        "In the start, the Q-table is initialized with all zeros. The agent then starts taking random actions to explore the environment. Based on the rewards it receives, it updates the values in the Q-table. These rewards help it learn which actions lead to better outcomes.\n",
        "\n",
        "#### Action selection:\n",
        "\n",
        "There are two ways to select an action:\n",
        "\n",
        "1. **Pick the best action** based on what has been learned (from the Q-table).\n",
        "2. **Randomly pick an action**, even if it might be poor.\n",
        "\n",
        "Even though random actions may give bad rewards at times, they help the agent explore new paths. This is important because the agent might discover a better, more optimal path it wouldn't have otherwise tried.\n",
        "\n",
        "At first, the agent takes mostly random actions, but over time, it starts picking better actions learned from experience.\n",
        "\n",
        "The best strategy is to **combine both approaches** — some randomness and some learned choices — so the agent doesn’t get stuck in a local optimum.\n",
        "\n",
        "#### Q-table update formula:\n",
        " Q[state,action]=Q[state,action]+α(reward+γ⋅ maxQ[new_state,:]−Q[state,action])\n",
        "\n",
        "#### Parameters:\n",
        "\n",
        "- **alpha (α)** = Learning rate  \n",
        "  Controls how much the Q-value should update.  \n",
        "  A high alpha means quicker updates (more change).  \n",
        "  A low alpha means slower, more stable updates.\n",
        "\n",
        "- **gamma (γ)** = Discount rate  \n",
        "  Determines how much future rewards matter.  \n",
        "  A high gamma values future rewards more.  \n",
        "  A low gamma focuses on immediate rewards.\n",
        "\n",
        "#### Summary:\n",
        "\n",
        "- The Q-table starts with all zeros.\n",
        "- The agent explores the environment using random actions.\n",
        "- It learns from rewards and updates the Q-table.\n",
        "- It gradually shifts from exploration (random) to exploitation (choosing best known action).\n",
        "- The balance of exploration and exploitation ensures it doesn't get stuck in a local maximum.\n",
        "\n"
      ],
      "metadata": {
        "id": "9QkeVDi1KnNN"
      }
    },
    {
      "cell_type": "markdown",
      "source": [
        "###Summary Explanation\n",
        "\n",
        "1. The Q-table starts with all zeros:\n",
        "\n",
        "    Typically, the Q-table (which stores the Q-values for each state-action pair) is initialized to zero. This is because initially, the agent has no knowledge of which actions are good or bad, so all state-action values are set to zero.\n",
        "\n",
        "2. The agent explores the environment using random actions:\n",
        "\n",
        "    Early in the learning process, the agent explores its environment by taking random actions. This is done to gather experiences and learn about the environment and the rewards associated with different actions.\n",
        "\n",
        "3. It learns from rewards and updates the Q-table:\n",
        "\n",
        "    After each action, the agent receives a reward (or penalty) and updates the Q-value for the state-action pair using the Q-learning update formula. This process helps the agent learn the expected long-term rewards for each state-action pair.\n",
        "\n",
        "4. It gradually shifts from exploration (random) to exploitation (choosing the best-known action):\n",
        "\n",
        "    As the agent learns more about the environment, it starts to shift its behavior towards exploitation, which means choosing the action that is believed to give the highest reward (based on the current Q-values).\n",
        "    Initially, the agent explores a lot, but over time, it takes fewer random actions and focuses more on exploiting the knowledge it has gained.\n",
        "\n",
        "5. The balance of exploration and exploitation ensures it doesn't get stuck in a local maximum:\n",
        "\n",
        "    The balance between exploration (trying new actions) and exploitation (choosing the best-known action) is crucial to ensure that the agent doesn't get stuck in suboptimal strategies (local maxima).\n",
        "\n",
        "    Techniques like epsilon-greedy (where the agent chooses the best-known action most of the time but occasionally picks a random action with probability\n",
        "    𝜖\n",
        "    ϵ) help maintain this balance, enabling the agent to discover better strategies over time.\n",
        "\n",
        "    This is a concise but accurate overview of the core principles of Q-learning!"
      ],
      "metadata": {
        "id": "CBH4Lq41emFa"
      }
    },
    {
      "cell_type": "markdown",
      "source": [
        "##Q-Learning using OpenAI gym\n",
        "\n",
        "### Introduction to OpenAI Gym\n",
        "\n",
        "OpenAI Gym is a toolkit for developing and comparing reinforcement learning (RL) algorithms. It provides a wide variety of environments, such as classic control problems, Atari games, robotic simulations, and more. These environments can be used to train agents and evaluate RL algorithms in a standardized way.\n",
        "\n",
        "## Key Features of OpenAI Gym:\n",
        "- **Standardized API**: Gym provides a consistent interface for all environments, making it easy to swap environments and focus on the learning algorithms.\n",
        "- **Various Environments**: Gym offers a wide range of environments from simple problems like cart-pole balancing to complex simulations involving robotics and Atari games.\n",
        "- **Integration with Popular Libraries**: Gym integrates well with popular libraries like TensorFlow, PyTorch, and stable-baselines for developing RL agents.\n",
        "\n",
        "\n"
      ],
      "metadata": {
        "id": "KOGgLBhZOQ6j"
      }
    },
    {
      "cell_type": "code",
      "execution_count": 25,
      "metadata": {
        "colab": {
          "base_uri": "https://localhost:8080/"
        },
        "id": "T8rcby7TJZo8",
        "outputId": "b10f9093-2801-4ff1-f566-d58694d2dcf2"
      },
      "outputs": [
        {
          "output_type": "stream",
          "name": "stdout",
          "text": [
            "Requirement already satisfied: gymnasium in /usr/local/lib/python3.12/dist-packages (1.2.0)\n",
            "Requirement already satisfied: numpy>=1.21.0 in /usr/local/lib/python3.12/dist-packages (from gymnasium) (2.0.2)\n",
            "Requirement already satisfied: cloudpickle>=1.2.0 in /usr/local/lib/python3.12/dist-packages (from gymnasium) (3.1.1)\n",
            "Requirement already satisfied: typing-extensions>=4.3.0 in /usr/local/lib/python3.12/dist-packages (from gymnasium) (4.15.0)\n",
            "Requirement already satisfied: farama-notifications>=0.0.1 in /usr/local/lib/python3.12/dist-packages (from gymnasium) (0.0.4)\n"
          ]
        }
      ],
      "source": [
        "#Installing and importing gym\n",
        "!pip install gymnasium\n",
        "\n",
        "import gymnasium as gym"
      ]
    },
    {
      "cell_type": "markdown",
      "source": [
        "##Creating Enviroment\n",
        "In this section, we create and interact with the **FrozenLake-v1** environment, a simple grid world used in reinforcement learning. The goal is to navigate from the start to the goal while avoiding holes. We will also display some key information about the environment, such as the number of states and available actions.\n"
      ],
      "metadata": {
        "id": "Pg1Wu1K7f000"
      }
    },
    {
      "cell_type": "code",
      "source": [
        "# Create the environment\n",
        "env = gym.make(\"FrozenLake-v1\", is_slippery=True)  # can also pass render_mode\n",
        "#To see what this enviromen have visually we print them\n",
        "#To see number of stes this enviroment has\n",
        "print(\"States:\",env.observation_space.n)##.n??\n",
        "#To see Actions our agent have\n",
        "print(\"Actions:\",env.action_space.n)"
      ],
      "metadata": {
        "colab": {
          "base_uri": "https://localhost:8080/"
        },
        "id": "y0l60Rj3PPbv",
        "outputId": "e690161b-cf34-4da0-a7b6-3ddfaca17f29"
      },
      "execution_count": 26,
      "outputs": [
        {
          "output_type": "stream",
          "name": "stdout",
          "text": [
            "States: 16\n",
            "Actions: 4\n"
          ]
        }
      ]
    },
    {
      "cell_type": "markdown",
      "source": [
        "##Reset Enviroment:\n",
        "this gives the initial point to agent to start from.\n",
        "As frozen lake is a case where the starting should be fixed not randomized"
      ],
      "metadata": {
        "id": "DG3u7Id9gRpk"
      }
    },
    {
      "cell_type": "code",
      "source": [
        "# Reset environment (returns a tuple )\n",
        "state,info = env.reset() # The env.reset() method returns the initial state. The returned value is assigned to the state variable.\n",
        "\n",
        "# Take a random action\n",
        "action = env.action_space.sample()\n",
        "#Modified line to accomodate the 4 values returned by env.step()\n",
        "new_state, reward, terminated, truncated, info = env.step(action)\n",
        "\n",
        "#env.render() #This wont work on collab , but terminal of any ide"
      ],
      "metadata": {
        "id": "inj2rjZjRkij"
      },
      "execution_count": 27,
      "outputs": []
    },
    {
      "cell_type": "markdown",
      "source": [
        "FrozenLake have: 16 states,4 action(left,right,up,down),4 Blockages (frozen,hole,start and Goal)"
      ],
      "metadata": {
        "id": "sikASTtzZGV2"
      }
    },
    {
      "cell_type": "markdown",
      "source": [
        "##Making the Q-Table\n",
        "In Q-learning, the **Q-table** stores Q-values for each state-action pair. Initially, it is often set to **zero** to represent that the agent has no prior knowledge about the environment."
      ],
      "metadata": {
        "id": "k--sE9oHZM5f"
      }
    },
    {
      "cell_type": "code",
      "source": [
        "import numpy as np\n",
        "import time\n",
        "\n",
        "#Create the Enviroment\n",
        "env=gym.make('FrozenLake-v1',is_slippery=True) # is_slippery = makes the agent to even a slippin on lake parameter\n",
        "\n",
        "state=env.observation_space.n\n",
        "action=env.action_space.n\n",
        "\n",
        "#MAking the whole states in zeros according to architecture\n",
        "Q=np.zeros((state,action))\n",
        "Q\n"
      ],
      "metadata": {
        "id": "aF0F3d8YUcaP",
        "colab": {
          "base_uri": "https://localhost:8080/"
        },
        "outputId": "c09fb647-dbec-4527-ee12-3086cd40d65b"
      },
      "execution_count": 28,
      "outputs": [
        {
          "output_type": "execute_result",
          "data": {
            "text/plain": [
              "array([[0., 0., 0., 0.],\n",
              "       [0., 0., 0., 0.],\n",
              "       [0., 0., 0., 0.],\n",
              "       [0., 0., 0., 0.],\n",
              "       [0., 0., 0., 0.],\n",
              "       [0., 0., 0., 0.],\n",
              "       [0., 0., 0., 0.],\n",
              "       [0., 0., 0., 0.],\n",
              "       [0., 0., 0., 0.],\n",
              "       [0., 0., 0., 0.],\n",
              "       [0., 0., 0., 0.],\n",
              "       [0., 0., 0., 0.],\n",
              "       [0., 0., 0., 0.],\n",
              "       [0., 0., 0., 0.],\n",
              "       [0., 0., 0., 0.],\n",
              "       [0., 0., 0., 0.]])"
            ]
          },
          "metadata": {},
          "execution_count": 28
        }
      ]
    },
    {
      "cell_type": "markdown",
      "source": [
        "##Q-Learning\n",
        "\n",
        "In Q-learning, the **Q-table** is used to store the **Q-values** for each state-action pair. Initially, it is set to zeros, indicating the agent has no prior knowledge of the environment. This setup encourages the agent to explore different actions and learn from rewards through interaction with the environment.\n",
        "\n",
        "### Key Points:\n",
        "- **Environment**: We create the `FrozenLake-v1` environment from **OpenAI Gym**, where the agent learns to navigate a frozen lake.\n",
        "- **States and Actions**: The number of states and actions in the environment are obtained using `observation_space.n` and `action_space.n`, respectively.\n",
        "- **Q-table**: The Q-table is initialized with zeros, with dimensions corresponding to the number of states and actions in the environment. This serves as a starting point for the agent to learn optimal actions over time.\n",
        "\n",
        "The Q-table evolves over time as the agent explores and updates the values based on rewards, gradually shifting from random exploration to choosing the best-known actions.\n",
        "\n",
        "\n",
        "```\n",
        "Remember to run below 5 times ateleast before checking the model accuracy\n",
        "```\n",
        "\n"
      ],
      "metadata": {
        "id": "vqHZizdOltJB"
      }
    },
    {
      "cell_type": "code",
      "source": [
        "#Now setting the goals and blockage info and intructions to agent\n",
        "\n",
        "episode=10000 #Number of training and seeing from the 0 Q table??\n",
        "max_step=250 #Intructing to reach to goal in up step 250 otherwise it will terminate thinking its in some Loop Phase\n",
        "\n",
        "#Changing the alpha gamma and epsilon gives the optimized aoutput\n",
        "alpha=0.70 #Learning Rate\n",
        "gamma=0.95 #Discount Rate\n",
        "\n",
        "#Picking the Initial Action:\n",
        "#as we know we have to take a balancesd approch where there some random action is start and after some time chhosing the correct actions\n",
        "#For that we will go foe epsilon Approch\n",
        "\n",
        "epsilon=0.90\n",
        "\n",
        "\n",
        "\n",
        "#Putting Everything in formula\n",
        "#Q[state,action]=Q[state,action]+alpha*(reward+gamma*np.max(Q[new_state,:])-Q[state,action])\n",
        "\n",
        "rewards=[]#making the empty list whic will get the apenned data to form our Q-Table\n",
        "for e in range(episode): #Making the row\n",
        "  # In newer versions of gymnasium, env.reset() returns a tuple (observation, info)\n",
        "  state,info = env.reset()\n",
        "  for s in range(max_step): #Making the column\n",
        "\n",
        "    #Conditions\n",
        "    if np.random.uniform(0,1)<epsilon:\n",
        "      action=env.action_space.sample() #Taking a random action\n",
        "\n",
        "    else:\n",
        "      action=np.argmax(Q[state,:]) #Taking the Max value rewar of state\n",
        "\n",
        "    next_state,reward,terminated, truncated,info = env.step(action)\n",
        "\n",
        "    Q[state,action]=Q[state,action]+alpha*(reward+gamma*np.max(Q[next_state,:])-Q[state,action])\n",
        "\n",
        "    state=next_state\n",
        "\n",
        "    if terminated or truncated:\n",
        "      rewards.append(reward)\n",
        "      epsilon-=0.005 #Changing this can also help in increing the\n",
        "      break #The goal is reached\n",
        "\n",
        "print(Q)\n",
        "print(f'Average Rewards= {sum(rewards)/len(rewards)}')"
      ],
      "metadata": {
        "colab": {
          "base_uri": "https://localhost:8080/"
        },
        "id": "_lE5ZIjwa2Lw",
        "outputId": "9293128c-5e40-4ce0-8a5c-3f35d148d212"
      },
      "execution_count": 29,
      "outputs": [
        {
          "output_type": "stream",
          "name": "stdout",
          "text": [
            "[[4.07487542e-01 1.14617836e-02 8.65350314e-03 1.48067501e-02]\n",
            " [1.63922433e-03 1.39799993e-03 3.04447356e-03 1.56200298e-01]\n",
            " [1.39831932e-01 1.03124150e-03 3.86003317e-04 5.94050259e-04]\n",
            " [3.61975207e-06 4.35144678e-06 0.00000000e+00 0.00000000e+00]\n",
            " [5.05321241e-01 1.95089712e-02 1.75183635e-02 1.84340247e-02]\n",
            " [0.00000000e+00 0.00000000e+00 0.00000000e+00 0.00000000e+00]\n",
            " [1.70845844e-04 9.17818561e-05 4.36577255e-02 0.00000000e+00]\n",
            " [0.00000000e+00 0.00000000e+00 0.00000000e+00 0.00000000e+00]\n",
            " [8.28198464e-03 8.29568022e-03 9.78213289e-03 5.03262934e-01]\n",
            " [1.23878768e-02 6.90065347e-01 9.04251431e-03 1.38348793e-02]\n",
            " [3.79520666e-01 1.59271235e-03 3.79073456e-03 2.44401054e-03]\n",
            " [0.00000000e+00 0.00000000e+00 0.00000000e+00 0.00000000e+00]\n",
            " [0.00000000e+00 0.00000000e+00 0.00000000e+00 0.00000000e+00]\n",
            " [3.49502122e-02 7.48437542e-02 8.68560240e-01 7.11138605e-02]\n",
            " [9.12253307e-02 9.83051596e-01 1.20462908e-01 1.15902568e-01]\n",
            " [0.00000000e+00 0.00000000e+00 0.00000000e+00 0.00000000e+00]]\n",
            "Average Rewards= 0.7112\n"
          ]
        }
      ]
    },
    {
      "cell_type": "markdown",
      "source": [
        "##Matplotlib"
      ],
      "metadata": {
        "id": "nakQIrFCtu5M"
      }
    },
    {
      "cell_type": "code",
      "source": [
        "#Visualizing how drastically agent move changes to optomized one\n",
        "\n",
        "import matplotlib.pyplot as plt\n",
        "\n",
        "\n",
        "def get_avg(values):\n",
        "  return sum(values)/len(values)\n",
        "\n",
        "avg_rewards=[]\n",
        "\n",
        "for i in range (0,len(rewards),100):\n",
        "  avg_rewards.append(get_avg(rewards[i:i+100]))\n",
        "\n",
        "plt.plot(avg_rewards)\n",
        "plt.ylabel('Average Reward or Accuracy')\n",
        "plt.xlabel(\"Episodes (100\\'s)\")\n",
        "plt.show()"
      ],
      "metadata": {
        "colab": {
          "base_uri": "https://localhost:8080/",
          "height": 449
        },
        "id": "CgSm7YmNtGgA",
        "outputId": "cfea21a0-9c47-489f-bde9-77bd2ff29e9c"
      },
      "execution_count": 30,
      "outputs": [
        {
          "output_type": "display_data",
          "data": {
            "text/plain": [
              "<Figure size 640x480 with 1 Axes>"
            ],
            "image/png": "[encoded data removed]"
          },
          "metadata": {}
        }
      ]
    }
  ]
}