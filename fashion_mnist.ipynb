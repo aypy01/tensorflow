{
  "nbformat": 4,
  "nbformat_minor": 0,
  "metadata": {
    "colab": {
      "provenance": [],
      "authorship_tag": "ABX9TyPqMS8N0Jed6lJatwsxxtRV",
      "include_colab_link": true
    },
    "kernelspec": {
      "name": "python3",
      "display_name": "Python 3"
    },
    "language_info": {
      "name": "python"
    }
  },
  "cells": [
    {
      "cell_type": "markdown",
      "metadata": {
        "id": "view-in-github",
        "colab_type": "text"
      },
      "source": [
        "<a href=\"https://colab.research.google.com/github/aypy01/tensorflow/blob/main/fashion_mnist.ipynb\" target=\"_parent\"><img src=\"https://colab.research.google.com/assets/colab-badge.svg\" alt=\"Open In Colab\"/></a>"
      ]
    },
    {
      "cell_type": "markdown",
      "source": [
        "##Libraries"
      ],
      "metadata": {
        "id": "3GNVFM2t9pVU"
      }
    },
    {
      "cell_type": "code",
      "execution_count": null,
      "metadata": {
        "id": "7OBtn69gXlbU"
      },
      "outputs": [],
      "source": [
        "import tensorflow as tf\n",
        "\n",
        "import numpy as np\n",
        "import matplotlib.pyplot as plt\n",
        "import pandas as pd\n"
      ]
    },
    {
      "cell_type": "markdown",
      "source": [
        "##Loading Dataset"
      ],
      "metadata": {
        "id": "WMgaW1PN9vjJ"
      }
    },
    {
      "cell_type": "code",
      "source": [
        "#Loading Dataset\n",
        "fashion_MNIST= tf.keras.datasets.fashion_mnist\n",
        "\n",
        "(x_train,y_train),(x_test,y_test)=fashion_MNIST.load_data()\n",
        "\n"
      ],
      "metadata": {
        "colab": {
          "base_uri": "https://localhost:8080/"
        },
        "id": "U8sjMVsXZkiX",
        "outputId": "b7accca5-f013-42f1-a181-73ce332d20a2"
      },
      "execution_count": null,
      "outputs": [
        {
          "output_type": "stream",
          "name": "stdout",
          "text": [
            "Downloading data from https://storage.googleapis.com/tensorflow/tf-keras-datasets/train-labels-idx1-ubyte.gz\n",
            "\u001b[1m29515/29515\u001b[0m \u001b[32m━━━━━━━━━━━━━━━━━━━━\u001b[0m\u001b[37m\u001b[0m \u001b[1m0s\u001b[0m 0us/step\n",
            "Downloading data from https://storage.googleapis.com/tensorflow/tf-keras-datasets/train-images-idx3-ubyte.gz\n",
            "\u001b[1m26421880/26421880\u001b[0m \u001b[32m━━━━━━━━━━━━━━━━━━━━\u001b[0m\u001b[37m\u001b[0m \u001b[1m0s\u001b[0m 0us/step\n",
            "Downloading data from https://storage.googleapis.com/tensorflow/tf-keras-datasets/t10k-labels-idx1-ubyte.gz\n",
            "\u001b[1m5148/5148\u001b[0m \u001b[32m━━━━━━━━━━━━━━━━━━━━\u001b[0m\u001b[37m\u001b[0m \u001b[1m0s\u001b[0m 1us/step\n",
            "Downloading data from https://storage.googleapis.com/tensorflow/tf-keras-datasets/t10k-images-idx3-ubyte.gz\n",
            "\u001b[1m4422102/4422102\u001b[0m \u001b[32m━━━━━━━━━━━━━━━━━━━━\u001b[0m\u001b[37m\u001b[0m \u001b[1m0s\u001b[0m 0us/step\n"
          ]
        }
      ]
    },
    {
      "cell_type": "markdown",
      "source": [
        "##Inspecting Dataset"
      ],
      "metadata": {
        "id": "1PgE5nOI90T1"
      }
    },
    {
      "cell_type": "code",
      "source": [
        "x_train.shape\n"
      ],
      "metadata": {
        "colab": {
          "base_uri": "https://localhost:8080/"
        },
        "id": "W26tzHdtav2m",
        "outputId": "bd34d3bd-88e6-4fba-e0f7-65f96639ab46"
      },
      "execution_count": null,
      "outputs": [
        {
          "output_type": "execute_result",
          "data": {
            "text/plain": [
              "(60000, 28, 28)"
            ]
          },
          "metadata": {},
          "execution_count": 3
        }
      ]
    },
    {
      "cell_type": "code",
      "source": [
        "y_train.shape\n"
      ],
      "metadata": {
        "colab": {
          "base_uri": "https://localhost:8080/"
        },
        "id": "oxacMWWRa_h4",
        "outputId": "fa72f5bf-724e-4dbc-e432-e0b62e4977d7"
      },
      "execution_count": null,
      "outputs": [
        {
          "output_type": "execute_result",
          "data": {
            "text/plain": [
              "(60000,)"
            ]
          },
          "metadata": {},
          "execution_count": 4
        }
      ]
    },
    {
      "cell_type": "code",
      "source": [
        "y_train\n",
        "#Label y_train only return the 0-9 array and the dataset have to be text dictioctionary after seeing the documentation\n"
      ],
      "metadata": {
        "colab": {
          "base_uri": "https://localhost:8080/"
        },
        "id": "d1IaU-Kcbvcq",
        "outputId": "3edbb90d-3832-47fb-8f13-ef8871af5e3a"
      },
      "execution_count": null,
      "outputs": [
        {
          "output_type": "execute_result",
          "data": {
            "text/plain": [
              "array([9, 0, 0, ..., 3, 0, 5], dtype=uint8)"
            ]
          },
          "metadata": {},
          "execution_count": 5
        }
      ]
    },
    {
      "cell_type": "code",
      "source": [
        "\n",
        "class_names=[\"T-shirt/Top\",'Trouser','Pullover','Dress', 'Coat','Sandal', 'Shirt', 'Sneaker','Bag','Ankle boot']\n"
      ],
      "metadata": {
        "id": "0iXdz73vcpvo"
      },
      "execution_count": null,
      "outputs": []
    },
    {
      "cell_type": "markdown",
      "source": [
        "##Preprocessing"
      ],
      "metadata": {
        "id": "IRiDUOwB9_M9"
      }
    },
    {
      "cell_type": "markdown",
      "source": [
        "###Rescaling"
      ],
      "metadata": {
        "id": "oxPXlK-L-HEx"
      }
    },
    {
      "cell_type": "code",
      "source": [
        "x_train=x_train/255.0 #converting the range from 255 to 0-1\n",
        "#Similarly for x_test\n",
        "x_test=x_test/255.0\n"
      ],
      "metadata": {
        "id": "GvSvi9yOeUag"
      },
      "execution_count": null,
      "outputs": []
    },
    {
      "cell_type": "markdown",
      "source": [
        "###Matplotlib"
      ],
      "metadata": {
        "id": "FGnrweUJ-OD8"
      }
    },
    {
      "cell_type": "code",
      "source": [
        "#1st let's see what's inside in this dataset\n",
        "plt.figure(figsize=(5,5))\n",
        "plt.imshow(x_train[0])\n",
        "plt.xlabel(class_names[y_train[0]])\n",
        "plt.show()"
      ],
      "metadata": {
        "colab": {
          "base_uri": "https://localhost:8080/",
          "height": 465
        },
        "id": "RVcDeUPYdIK3",
        "outputId": "f05b8e4d-5d05-40de-c1fe-92a61c9bd4f4"
      },
      "execution_count": null,
      "outputs": [
        {
          "output_type": "display_data",
          "data": {
            "text/plain": [
              "<Figure size 500x500 with 1 Axes>"
            ],
            "image/png": "[encoded data removed]"
          },
          "metadata": {}
        }
      ]
    },
    {
      "cell_type": "code",
      "source": [
        "#Lets see what that 20 colomn of x_train have\n",
        "\n",
        "plt.figure(figsize=(10,10))\n",
        "for i in range(20):\n",
        "  plt.subplot(4,5,i+1)\n",
        "  plt.xlabel(class_names[y_train[i]]) #\n",
        "  plt.imshow(x_train[i])\n",
        "plt.show()\n"
      ],
      "metadata": {
        "colab": {
          "base_uri": "https://localhost:8080/",
          "height": 819
        },
        "id": "IWFBZXF9fNQO",
        "outputId": "9493004b-02c0-4f73-bd6d-b85a95a66524"
      },
      "execution_count": null,
      "outputs": [
        {
          "output_type": "display_data",
          "data": {
            "text/plain": [
              "<Figure size 1000x1000 with 20 Axes>"
            ],
            "image/png": "[encoded data removed]"
          },
          "metadata": {}
        }
      ]
    },
    {
      "cell_type": "markdown",
      "source": [
        "##Model"
      ],
      "metadata": {
        "id": "UtHmGzEr-Rg8"
      }
    },
    {
      "cell_type": "code",
      "source": [
        "from tensorflow.keras import models,layers\n",
        "model=models.Sequential([\n",
        "    layers.Conv2D(28,(3,3),activation='relu',input_shape=(28,28,1)), #As Conv2D taked 3-D input and not 2-D so , have to mention 1\n",
        "    layers.Conv2D(32,(3,3),activation='relu'),\n",
        "    layers.Dropout(0.5),\n",
        "    layers.MaxPooling2D(2,2),\n",
        "\n",
        "    layers.Flatten(),\n",
        "\n",
        "    layers.Dense(128,activation='relu'),\n",
        "    layers.Dense(10,activation='softmax')\n",
        "])\n"
      ],
      "metadata": {
        "colab": {
          "base_uri": "https://localhost:8080/"
        },
        "id": "B4vv2vG3hUKk",
        "outputId": "a623fe53-e6a3-477d-893e-9985ec6eb676"
      },
      "execution_count": null,
      "outputs": [
        {
          "output_type": "stream",
          "name": "stderr",
          "text": [
            "/usr/local/lib/python3.12/dist-packages/keras/src/layers/convolutional/base_conv.py:113: UserWarning: Do not pass an `input_shape`/`input_dim` argument to a layer. When using Sequential models, prefer using an `Input(shape)` object as the first layer in the model instead.\n",
            "  super().__init__(activity_regularizer=activity_regularizer, **kwargs)\n"
          ]
        }
      ]
    },
    {
      "cell_type": "markdown",
      "source": [
        "##Compile"
      ],
      "metadata": {
        "id": "plP5h03O-Xyc"
      }
    },
    {
      "cell_type": "code",
      "source": [
        "model.compile(optimizer='Adam',\n",
        "              loss='sparse_categorical_crossentropy',#As the labels are multiple and 0-9\n",
        "              metrics=['accuracy'])\n"
      ],
      "metadata": {
        "id": "DriZy326kZgO"
      },
      "execution_count": null,
      "outputs": []
    },
    {
      "cell_type": "markdown",
      "source": [
        "##Training"
      ],
      "metadata": {
        "id": "qhnxCR7Q-aj8"
      }
    },
    {
      "cell_type": "code",
      "source": [
        "\n",
        "model.fit(x_train,y_train,epochs=10,validation_split=0.2,verbose=1, shuffle=True)\n"
      ],
      "metadata": {
        "colab": {
          "base_uri": "https://localhost:8080/"
        },
        "id": "KdPEi1CqpWcn",
        "outputId": "d2dd4a39-5528-4460-f6cf-c4d4dde4ccac"
      },
      "execution_count": null,
      "outputs": [
        {
          "output_type": "stream",
          "name": "stdout",
          "text": [
            "Epoch 1/10\n",
            "\u001b[1m1500/1500\u001b[0m \u001b[32m━━━━━━━━━━━━━━━━━━━━\u001b[0m\u001b[37m\u001b[0m \u001b[1m10s\u001b[0m 5ms/step - accuracy: 0.7979 - loss: 0.5581 - val_accuracy: 0.8886 - val_loss: 0.3629\n",
            "Epoch 2/10\n",
            "\u001b[1m1500/1500\u001b[0m \u001b[32m━━━━━━━━━━━━━━━━━━━━\u001b[0m\u001b[37m\u001b[0m \u001b[1m6s\u001b[0m 4ms/step - accuracy: 0.8961 - loss: 0.2851 - val_accuracy: 0.9044 - val_loss: 0.2931\n",
            "Epoch 3/10\n",
            "\u001b[1m1500/1500\u001b[0m \u001b[32m━━━━━━━━━━━━━━━━━━━━\u001b[0m\u001b[37m\u001b[0m \u001b[1m6s\u001b[0m 4ms/step - accuracy: 0.9148 - loss: 0.2298 - val_accuracy: 0.9043 - val_loss: 0.2811\n",
            "Epoch 4/10\n",
            "\u001b[1m1500/1500\u001b[0m \u001b[32m━━━━━━━━━━━━━━━━━━━━\u001b[0m\u001b[37m\u001b[0m \u001b[1m10s\u001b[0m 4ms/step - accuracy: 0.9284 - loss: 0.1951 - val_accuracy: 0.9172 - val_loss: 0.2371\n",
            "Epoch 5/10\n",
            "\u001b[1m1500/1500\u001b[0m \u001b[32m━━━━━━━━━━━━━━━━━━━━\u001b[0m\u001b[37m\u001b[0m \u001b[1m10s\u001b[0m 4ms/step - accuracy: 0.9337 - loss: 0.1784 - val_accuracy: 0.9214 - val_loss: 0.2147\n",
            "Epoch 6/10\n",
            "\u001b[1m1500/1500\u001b[0m \u001b[32m━━━━━━━━━━━━━━━━━━━━\u001b[0m\u001b[37m\u001b[0m \u001b[1m6s\u001b[0m 4ms/step - accuracy: 0.9479 - loss: 0.1420 - val_accuracy: 0.9207 - val_loss: 0.2195\n",
            "Epoch 7/10\n",
            "\u001b[1m1500/1500\u001b[0m \u001b[32m━━━━━━━━━━━━━━━━━━━━\u001b[0m\u001b[37m\u001b[0m \u001b[1m6s\u001b[0m 4ms/step - accuracy: 0.9517 - loss: 0.1285 - val_accuracy: 0.9240 - val_loss: 0.2159\n",
            "Epoch 8/10\n",
            "\u001b[1m1500/1500\u001b[0m \u001b[32m━━━━━━━━━━━━━━━━━━━━\u001b[0m\u001b[37m\u001b[0m \u001b[1m11s\u001b[0m 4ms/step - accuracy: 0.9585 - loss: 0.1114 - val_accuracy: 0.9182 - val_loss: 0.2256\n",
            "Epoch 9/10\n",
            "\u001b[1m1500/1500\u001b[0m \u001b[32m━━━━━━━━━━━━━━━━━━━━\u001b[0m\u001b[37m\u001b[0m \u001b[1m7s\u001b[0m 5ms/step - accuracy: 0.9622 - loss: 0.0994 - val_accuracy: 0.9249 - val_loss: 0.2105\n",
            "Epoch 10/10\n",
            "\u001b[1m1500/1500\u001b[0m \u001b[32m━━━━━━━━━━━━━━━━━━━━\u001b[0m\u001b[37m\u001b[0m \u001b[1m5s\u001b[0m 4ms/step - accuracy: 0.9668 - loss: 0.0867 - val_accuracy: 0.9268 - val_loss: 0.2150\n"
          ]
        },
        {
          "output_type": "execute_result",
          "data": {
            "text/plain": [
              "<keras.src.callbacks.history.History at 0x7a57d2eb8590>"
            ]
          },
          "metadata": {},
          "execution_count": 24
        }
      ]
    },
    {
      "cell_type": "markdown",
      "source": [
        "##Evaluate"
      ],
      "metadata": {
        "id": "Qu9dXYfP-dAJ"
      }
    },
    {
      "cell_type": "code",
      "source": [
        "loss,accuracy=model.evaluate(x_test,y_test,verbose=1)\n",
        "print(f'Accuracy:{accuracy: .3f}')\n"
      ],
      "metadata": {
        "colab": {
          "base_uri": "https://localhost:8080/"
        },
        "id": "Z5unD0tSrnHb",
        "outputId": "48b92868-c799-414f-def3-15d3eada408b"
      },
      "execution_count": null,
      "outputs": [
        {
          "output_type": "stream",
          "name": "stdout",
          "text": [
            "\u001b[1m313/313\u001b[0m \u001b[32m━━━━━━━━━━━━━━━━━━━━\u001b[0m\u001b[37m\u001b[0m \u001b[1m1s\u001b[0m 2ms/step - accuracy: 0.9249 - loss: 0.2325\n",
            "Accuracy: 0.926\n"
          ]
        }
      ]
    },
    {
      "cell_type": "markdown",
      "source": [
        "##Predict"
      ],
      "metadata": {
        "id": "YqUUURwj-iLF"
      }
    },
    {
      "cell_type": "code",
      "source": [
        "prediction=model.predict(x_test)\n",
        "\n",
        "prediction[1] #See the class index 2 have the maximum confidence of test set index 1 image\n"
      ],
      "metadata": {
        "colab": {
          "base_uri": "https://localhost:8080/"
        },
        "id": "_k7j20fNtOlj",
        "outputId": "be1534e7-27e5-4f18-f45a-895122d92c23"
      },
      "execution_count": null,
      "outputs": [
        {
          "output_type": "stream",
          "name": "stdout",
          "text": [
            "\u001b[1m313/313\u001b[0m \u001b[32m━━━━━━━━━━━━━━━━━━━━\u001b[0m\u001b[37m\u001b[0m \u001b[1m0s\u001b[0m 1ms/step\n"
          ]
        },
        {
          "output_type": "execute_result",
          "data": {
            "text/plain": [
              "array([2.9113947e-04, 1.4438204e-11, 9.9970645e-01, 1.4782396e-08,\n",
              "       6.0132209e-08, 4.2537922e-12, 2.3208361e-06, 8.1897593e-11,\n",
              "       2.1969386e-09, 4.6622341e-13], dtype=float32)"
            ]
          },
          "metadata": {},
          "execution_count": 40
        }
      ]
    },
    {
      "cell_type": "code",
      "source": [
        "np.argmax(prediction[1]) #As seen the pediction return the confidence array from each class\n"
      ],
      "metadata": {
        "colab": {
          "base_uri": "https://localhost:8080/"
        },
        "id": "PCdIlQkuvOgQ",
        "outputId": "a4c5eb4f-a2f3-41bd-ca4a-8cac1a9a925c"
      },
      "execution_count": null,
      "outputs": [
        {
          "output_type": "execute_result",
          "data": {
            "text/plain": [
              "np.int64(2)"
            ]
          },
          "metadata": {},
          "execution_count": 42
        }
      ]
    },
    {
      "cell_type": "code",
      "source": [
        "#Lets check what label is test[1]  is\n",
        "y_test[1]\n",
        "#It checks ouw we are predicting correct"
      ],
      "metadata": {
        "colab": {
          "base_uri": "https://localhost:8080/"
        },
        "id": "L0C1ElYrwNOf",
        "outputId": "bd4d3777-9068-4e10-f027-dced0df5ed55"
      },
      "execution_count": null,
      "outputs": [
        {
          "output_type": "execute_result",
          "data": {
            "text/plain": [
              "np.uint8(2)"
            ]
          },
          "metadata": {},
          "execution_count": 45
        }
      ]
    },
    {
      "cell_type": "markdown",
      "source": [
        "##Saving"
      ],
      "metadata": {
        "id": "JiO11-7g-nSh"
      }
    },
    {
      "cell_type": "code",
      "source": [
        "model.save('fashion_MNIST.')\n"
      ],
      "metadata": {
        "id": "llPXPxr0woDr"
      },
      "execution_count": null,
      "outputs": []
    },
    {
      "cell_type": "markdown",
      "source": [
        "##Summary:\n",
        "### Dataset\n",
        "- Loaded FashionMNIST from `tf.keras.datasets`.\n",
        "- 10 classes (T-shirt/top, Trouser, Pullover, Dress, etc.).\n",
        "- Images are grayscale, 28×28 pixels.\n",
        "- Rescaled pixel values to [0,1].\n",
        "\n",
        "### Preprocessing\n",
        "- Used matplotlib to visualize sample images.\n",
        "- Created a class label list for easier interpretation.\n",
        "\n",
        "### Model\n",
        "- CNN architecture:\n",
        "  - Conv2D layers with ReLU.\n",
        "  - MaxPooling2D + Dropout for regularization.\n",
        "  - Flatten to feed into Dense layers.\n",
        "  - Dense hidden layers with ReLU.\n",
        "  - Output: Dense(10, activation='softmax') for classification.\n",
        "- Loss: `SparseCategoricalCrossentropy`.\n",
        "- Optimizer: Adam.\n",
        "- Metric: Accuracy.\n",
        "\n",
        "### Training & Evaluation\n",
        "- Fit model with 10 epochs, validation split 0.2, shuffle=True.\n",
        "- Achieved ~92.6% accuracy on test set.\n",
        "- Predictions output probability distribution across 10 classes.\n",
        "- Verified correctness by comparing predicted label with true label.\n",
        "- Saved final model as `fashion_mnist.keras`.\n"
      ],
      "metadata": {
        "id": "Q0oFZ2vRD-yD"
      }
    },
    {
      "cell_type": "markdown",
      "source": [
        "\n",
        "---\n",
        "## Navigation\n",
        "\n",
        "###  Explore More Projects\n",
        "[![Project: Sentiments](https://img.shields.io/badge/Project-Sentiments-e6770b?style=for-the-badge&logo=github&logoColor=00FF80&labelColor=765898)](https://github.com/aypy01/tensorflow/blob/main/sentiments.ipynb)\n",
        "\n",
        "[![Project: Fashion MNIST](https://img.shields.io/badge/Project-Fashion_MNIST-e6770b?style=for-the-badge&logo=github&logoColor=00FF80&labelColor=765898)](https://github.com/aypy01/tensorflow/blob/main/fashion-mnist-image-classifier.py)\n",
        "\n",
        "---"
      ],
      "metadata": {
        "id": "PGmEwAqI-qEy"
      }
    },
    {
      "cell_type": "markdown",
      "source": [
        "## Author\n",
        " <p align=\"left\">\n",
        "  Created and maintained by &nbsp;\n",
        "  <a href=\"https://github.com/aypy01\" target=\"_blank\">\n",
        "  <img src=\"https://img.shields.io/badge/Aaditya_Yadav-aypy01-e6770b?style=flat-square&logo=github&logoColor=00FF80&labelColor=765898\" alt=\"GitHub Badge\"/>\n",
        "</a>\n",
        "\n",
        "</p>\n",
        "\n",
        "<p>\n",
        "<img src=\"https://readme-typing-svg.demolab.com?font=Fira+Code&duration=3000&pause=500&color=00FF80&background=765898&center=false&vCenter=false&width=440&lines=Break+Things+First%2C+Understand+Later;Built+to+Debug%2C+Not+Repeat;Learning+What+Actually+Sticks;Code.+Observe.+Refine.\" alt=\"Typing SVG\" />\n",
        "</p>\n"
      ],
      "metadata": {
        "id": "IBYIxdG3_Ruw"
      }
    },
    {
      "cell_type": "markdown",
      "source": [
        "## License\n",
        "\n",
        "This project is licensed under the [![License: MIT](https://img.shields.io/badge/License-MIT-yellow.svg)](https://opensource.org/licenses/MIT).\n"
      ],
      "metadata": {
        "id": "9B2MNxxv_VFt"
      }
    }
  ]
}